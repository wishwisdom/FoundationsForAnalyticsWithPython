{
 "cells": [
  {
   "cell_type": "markdown",
   "metadata": {},
   "source": [
    "# 2장 CVS 파일"
   ]
  },
  {
   "cell_type": "markdown",
   "metadata": {},
   "source": [
    "### CVS 파일은 숫자나 문자열로 구성되어 있는 표 형태의 데이터가 일반 텍스트로 저장 된다. 그래서 다른 편집기에도 사용가능한 포맷"
   ]
  },
  {
   "cell_type": "markdown",
   "metadata": {},
   "source": [
    "<https://github.com/cbrownley/foundations-for-analytics-with-python>에서 필요한 CVS 파일을 다운 받을 것"
   ]
  },
  {
   "cell_type": "markdown",
   "metadata": {},
   "source": [
    "## 2.1 기본 파이썬 대 팬더스\n",
    "-------------------------------"
   ]
  },
  {
   "cell_type": "markdown",
   "metadata": {},
   "source": [
    "책에서는 추후 **파이썬**만으로 데이터 처리하는 것과 **판다스**를 이용해서 데이터 처리하는 것을 비교하는 것 같다.\n",
    "근데 **판다스**라고 읽었는데 책에서는 **팬더스**라 해서 계속 **팬더스**라고 말할 듯.\n",
    "알다시피 **팬더스**를 사용하는 것이 더 효율적이다. 대부분 구현했기 때무네...그렇지만 이 책은 Python을 모르지만 데이터 분석을 하고 싶은 사람을 위해 만들어진 것이기 때문에 어느 정도 비교하는 부분이 날올 것 같다."
   ]
  },
  {
   "cell_type": "markdown",
   "metadata": {},
   "source": [
    "## 2.2 CVS 파일 읽고 쓰기(파트1)"
   ]
  },
  {
   "cell_type": "markdown",
   "metadata": {},
   "source": [
    "### 2.2.1 CVS 모듈을 사용하지 않는 기본 파이썬 코드"
   ]
  },
  {
   "cell_type": "code",
   "execution_count": 7,
   "metadata": {},
   "outputs": [
    {
     "name": "stdout",
     "output_type": "stream",
     "text": [
      "--2017-12-29 17:22:53--  https://raw.githubusercontent.com/cbrownley/foundations-for-analytics-with-python/master/csv/supplier_data.csv\n",
      "Resolving raw.githubusercontent.com (raw.githubusercontent.com)... 151.101.40.133\n",
      "Connecting to raw.githubusercontent.com (raw.githubusercontent.com)|151.101.40.133|:443... connected.\n",
      "HTTP request sent, awaiting response... 200 OK\n",
      "Length: 545 [text/plain]\n",
      "Saving to: ‘supplier_data.csv’\n",
      "\n",
      "supplier_data.csv   100%[===================>]     545  --.-KB/s    in 0s      \n",
      "\n",
      "2017-12-29 17:22:54 (74.6 MB/s) - ‘supplier_data.csv’ saved [545/545]\n",
      "\n"
     ]
    }
   ],
   "source": [
    "!wget https://raw.githubusercontent.com/cbrownley/foundations-for-analytics-with-python/master/csv/supplier_data.csv"
   ]
  },
  {
   "cell_type": "code",
   "execution_count": 14,
   "metadata": {},
   "outputs": [
    {
     "name": "stdout",
     "output_type": "stream",
     "text": [
      "Supplier Name,Invoice Number,Part Number,Cost,Purchase Date\n",
      "\n",
      "Supplier X,001-1001,2341,$500.00,1/20/14\n",
      "\n",
      "Supplier X,001-1001,2341,$500.00,1/20/14\n",
      "\n",
      "Supplier X,001-1001,5467,$750.00,1/20/14\n",
      "\n",
      "Supplier X,001-1001,5467,$750.00,1/20/14\n",
      "\n",
      "Supplier Y,50-9501,7009,$250.00,1/30/14\n",
      "\n",
      "Supplier Y,50-9501,7009,$250.00,1/30/14\n",
      "\n",
      "Supplier Y,50-9505,6650,$125.00,2/3/14\n",
      "\n",
      "Supplier Y,50-9505,6650,$125.00,2/3/14\n",
      "\n",
      "Supplier Z,920-4803,3321,$615.00,2/3/14\n",
      "\n",
      "Supplier Z,920-4804,3321,$615.00,2/10/14\n",
      "\n",
      "Supplier Z,920-4805,3321,$615.00,2/17/14\n",
      "\n",
      "Supplier Z,920-4806,3321,$615.00,2/24/14\n",
      "\n"
     ]
    }
   ],
   "source": [
    "import sys\n",
    "input_file = 'supplier_data.csv'\n",
    "output_file = 'supplier_data_output.csv'\n",
    "\n",
    "# csv 파일 읽기\n",
    "with open(input_file,'r',newline='') as file_reader:\n",
    "    # cvs 파일 쓰기\n",
    "    with open(output_file,'w') as file_writer:\n",
    "        for row in file_reader:\n",
    "            # String을 List로 만들기 -> 데이터 분석을 위해 List 또는 Dic으로 만들 필요가 있음.\n",
    "            row = row.strip()\n",
    "            row_list = row.split(',')\n",
    "            # 데이터 분석 형태를 cvs 형태로 바꿔 file로 변경\n",
    "            file_writer.write(','.join(map(str,row_list))+'\\n')\n",
    "            \n",
    "# 정상적으로 파일이 만들어졌는지 확인\n",
    "with open(output_file,'r', newline='') as result_reader:\n",
    "    for row in result_reader:\n",
    "        print(row)"
   ]
  },
  {
   "cell_type": "markdown",
   "metadata": {},
   "source": [
    "### 2.2.2 팬더스"
   ]
  },
  {
   "cell_type": "markdown",
   "metadata": {},
   "source": [
    "**_for문_** 없이 단순히 **pandas**를 사용함으로써 코드가 매우 짧아졌다.\n",
    "특정 format으로 불러올 수 있기 때문에 편하기도 하다. 그리고 데이터가 csv같은 경우의 데이터가 많기 때문에 to_csv를는 함수를 지원하는 것 같다."
   ]
  },
  {
   "cell_type": "code",
   "execution_count": 20,
   "metadata": {},
   "outputs": [
    {
     "name": "stdout",
     "output_type": "stream",
     "text": [
      "   Supplier Name Invoice Number  Part Number     Cost Purchase Date\n",
      "0     Supplier X       001-1001         2341  $500.00       1/20/14\n",
      "1     Supplier X       001-1001         2341  $500.00       1/20/14\n",
      "2     Supplier X       001-1001         5467  $750.00       1/20/14\n",
      "3     Supplier X       001-1001         5467  $750.00       1/20/14\n",
      "4     Supplier Y        50-9501         7009  $250.00       1/30/14\n",
      "5     Supplier Y        50-9501         7009  $250.00       1/30/14\n",
      "6     Supplier Y        50-9505         6650  $125.00        2/3/14\n",
      "7     Supplier Y        50-9505         6650  $125.00        2/3/14\n",
      "8     Supplier Z       920-4803         3321  $615.00        2/3/14\n",
      "9     Supplier Z       920-4804         3321  $615.00       2/10/14\n",
      "10    Supplier Z       920-4805         3321  $615.00       2/17/14\n",
      "11    Supplier Z       920-4806         3321  $615.00       2/24/14\n",
      "   Supplier Name Invoice Number  Part Number     Cost Purchase Date\n",
      "0     Supplier X       001-1001         2341  $500.00       1/20/14\n",
      "1     Supplier X       001-1001         2341  $500.00       1/20/14\n",
      "2     Supplier X       001-1001         5467  $750.00       1/20/14\n",
      "3     Supplier X       001-1001         5467  $750.00       1/20/14\n",
      "4     Supplier Y        50-9501         7009  $250.00       1/30/14\n",
      "5     Supplier Y        50-9501         7009  $250.00       1/30/14\n",
      "6     Supplier Y        50-9505         6650  $125.00        2/3/14\n",
      "7     Supplier Y        50-9505         6650  $125.00        2/3/14\n",
      "8     Supplier Z       920-4803         3321  $615.00        2/3/14\n",
      "9     Supplier Z       920-4804         3321  $615.00       2/10/14\n",
      "10    Supplier Z       920-4805         3321  $615.00       2/17/14\n",
      "11    Supplier Z       920-4806         3321  $615.00       2/24/14\n"
     ]
    }
   ],
   "source": [
    "import sys\n",
    "import pandas as pd\n",
    "\n",
    "input_file = 'supplier_data.csv'\n",
    "output_file = 'supplier_data_pandas_output.csv'\n",
    "\n",
    "data_frame = pd.read_csv(input_file)\n",
    "print(data_frame)\n",
    "data_frame.to_csv(output_file,index=False)\n",
    "\n",
    "out_data_frame = pd.read_csv(output_file)\n",
    "print(out_data_frame)"
   ]
  },
  {
   "cell_type": "code",
   "execution_count": null,
   "metadata": {
    "collapsed": true
   },
   "outputs": [],
   "source": []
  }
 ],
 "metadata": {
  "kernelspec": {
   "display_name": "Python 3",
   "language": "python",
   "name": "python3"
  },
  "language_info": {
   "codemirror_mode": {
    "name": "ipython",
    "version": 3
   },
   "file_extension": ".py",
   "mimetype": "text/x-python",
   "name": "python",
   "nbconvert_exporter": "python",
   "pygments_lexer": "ipython3",
   "version": "3.6.3"
  }
 },
 "nbformat": 4,
 "nbformat_minor": 2
}
