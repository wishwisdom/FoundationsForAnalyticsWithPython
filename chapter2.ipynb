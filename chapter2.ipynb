{
 "cells": [
  {
   "cell_type": "markdown",
   "metadata": {},
   "source": [
    "# 2장 CVS 파일"
   ]
  },
  {
   "cell_type": "markdown",
   "metadata": {},
   "source": [
    "### CVS 파일은 숫자나 문자열로 구성되어 있는 표 형태의 데이터가 일반 텍스트로 저장 된다. 그래서 다른 편집기에도 사용가능한 포맷"
   ]
  },
  {
   "cell_type": "markdown",
   "metadata": {},
   "source": [
    "<https://github.com/cbrownley/foundations-for-analytics-with-python>에서 필요한 CVS 파일을 다운 받을 것"
   ]
  },
  {
   "cell_type": "markdown",
   "metadata": {},
   "source": [
    "## 2.1 기본 파이썬 대 팬더스\n",
    "-------------------------------"
   ]
  },
  {
   "cell_type": "markdown",
   "metadata": {},
   "source": [
    "책에서는 추후 **파이썬**만으로 데이터 처리하는 것과 **판다스**를 이용해서 데이터 처리하는 것을 비교하는 것 같다.\n",
    "근데 **판다스**라고 읽었는데 책에서는 **팬더스**라 해서 계속 **팬더스**라고 말할 듯.\n",
    "알다시피 **팬더스**를 사용하는 것이 더 효율적이다. 대부분 구현했기 때무네...그렇지만 이 책은 Python을 모르지만 데이터 분석을 하고 싶은 사람을 위해 만들어진 것이기 때문에 어느 정도 비교하는 부분이 날올 것 같다."
   ]
  },
  {
   "cell_type": "markdown",
   "metadata": {},
   "source": [
    "## 2.2 CVS 파일 읽고 쓰기(파트1)"
   ]
  },
  {
   "cell_type": "markdown",
   "metadata": {},
   "source": [
    "### 2.2.1 CVS 모듈을 사용하지 않는 기본 파이썬 코드"
   ]
  },
  {
   "cell_type": "code",
   "execution_count": 7,
   "metadata": {},
   "outputs": [
    {
     "name": "stdout",
     "output_type": "stream",
     "text": [
      "--2017-12-29 17:22:53--  https://raw.githubusercontent.com/cbrownley/foundations-for-analytics-with-python/master/csv/supplier_data.csv\n",
      "Resolving raw.githubusercontent.com (raw.githubusercontent.com)... 151.101.40.133\n",
      "Connecting to raw.githubusercontent.com (raw.githubusercontent.com)|151.101.40.133|:443... connected.\n",
      "HTTP request sent, awaiting response... 200 OK\n",
      "Length: 545 [text/plain]\n",
      "Saving to: ‘supplier_data.csv’\n",
      "\n",
      "supplier_data.csv   100%[===================>]     545  --.-KB/s    in 0s      \n",
      "\n",
      "2017-12-29 17:22:54 (74.6 MB/s) - ‘supplier_data.csv’ saved [545/545]\n",
      "\n"
     ]
    }
   ],
   "source": [
    "!wget https://raw.githubusercontent.com/cbrownley/foundations-for-analytics-with-python/master/csv/supplier_data.csv"
   ]
  },
  {
   "cell_type": "code",
   "execution_count": 14,
   "metadata": {},
   "outputs": [
    {
     "name": "stdout",
     "output_type": "stream",
     "text": [
      "Supplier Name,Invoice Number,Part Number,Cost,Purchase Date\n",
      "\n",
      "Supplier X,001-1001,2341,$500.00,1/20/14\n",
      "\n",
      "Supplier X,001-1001,2341,$500.00,1/20/14\n",
      "\n",
      "Supplier X,001-1001,5467,$750.00,1/20/14\n",
      "\n",
      "Supplier X,001-1001,5467,$750.00,1/20/14\n",
      "\n",
      "Supplier Y,50-9501,7009,$250.00,1/30/14\n",
      "\n",
      "Supplier Y,50-9501,7009,$250.00,1/30/14\n",
      "\n",
      "Supplier Y,50-9505,6650,$125.00,2/3/14\n",
      "\n",
      "Supplier Y,50-9505,6650,$125.00,2/3/14\n",
      "\n",
      "Supplier Z,920-4803,3321,$615.00,2/3/14\n",
      "\n",
      "Supplier Z,920-4804,3321,$615.00,2/10/14\n",
      "\n",
      "Supplier Z,920-4805,3321,$615.00,2/17/14\n",
      "\n",
      "Supplier Z,920-4806,3321,$615.00,2/24/14\n",
      "\n"
     ]
    }
   ],
   "source": [
    "import sys\n",
    "input_file = 'supplier_data.csv'\n",
    "output_file = 'supplier_data_output.csv'\n",
    "\n",
    "# csv 파일 읽기\n",
    "with open(input_file,'r',newline='') as file_reader:\n",
    "    # cvs 파일 쓰기\n",
    "    with open(output_file,'w') as file_writer:\n",
    "        for row in file_reader:\n",
    "            # String을 List로 만들기 -> 데이터 분석을 위해 List 또는 Dic으로 만들 필요가 있음.\n",
    "            row = row.strip()\n",
    "            row_list = row.split(',')\n",
    "            # 데이터 분석 형태를 cvs 형태로 바꿔 file로 변경\n",
    "            file_writer.write(','.join(map(str,row_list))+'\\n')\n",
    "            \n",
    "# 정상적으로 파일이 만들어졌는지 확인\n",
    "with open(output_file,'r', newline='') as result_reader:\n",
    "    for row in result_reader:\n",
    "        print(row)"
   ]
  },
  {
   "cell_type": "markdown",
   "metadata": {},
   "source": [
    "## 2.2.2 팬더스 ##"
   ]
  },
  {
   "cell_type": "markdown",
   "metadata": {},
   "source": [
    "**_for문_** 없이 단순히 **pandas**를 사용함으로써 코드가 매우 짧아졌다.\n",
    "특정 format으로 불러올 수 있기 때문에 편하기도 하다. 그리고 데이터가 csv같은 경우의 데이터가 많기 때문에 to_csv를는 함수를 지원하는 것 같다.\n",
    "**DataFrame**으로 '표'형태로 만들어 저장하여, 따로 파싱없이 사용 가능하다."
   ]
  },
  {
   "cell_type": "code",
   "execution_count": 20,
   "metadata": {},
   "outputs": [
    {
     "name": "stdout",
     "output_type": "stream",
     "text": [
      "   Supplier Name Invoice Number  Part Number     Cost Purchase Date\n",
      "0     Supplier X       001-1001         2341  $500.00       1/20/14\n",
      "1     Supplier X       001-1001         2341  $500.00       1/20/14\n",
      "2     Supplier X       001-1001         5467  $750.00       1/20/14\n",
      "3     Supplier X       001-1001         5467  $750.00       1/20/14\n",
      "4     Supplier Y        50-9501         7009  $250.00       1/30/14\n",
      "5     Supplier Y        50-9501         7009  $250.00       1/30/14\n",
      "6     Supplier Y        50-9505         6650  $125.00        2/3/14\n",
      "7     Supplier Y        50-9505         6650  $125.00        2/3/14\n",
      "8     Supplier Z       920-4803         3321  $615.00        2/3/14\n",
      "9     Supplier Z       920-4804         3321  $615.00       2/10/14\n",
      "10    Supplier Z       920-4805         3321  $615.00       2/17/14\n",
      "11    Supplier Z       920-4806         3321  $615.00       2/24/14\n",
      "   Supplier Name Invoice Number  Part Number     Cost Purchase Date\n",
      "0     Supplier X       001-1001         2341  $500.00       1/20/14\n",
      "1     Supplier X       001-1001         2341  $500.00       1/20/14\n",
      "2     Supplier X       001-1001         5467  $750.00       1/20/14\n",
      "3     Supplier X       001-1001         5467  $750.00       1/20/14\n",
      "4     Supplier Y        50-9501         7009  $250.00       1/30/14\n",
      "5     Supplier Y        50-9501         7009  $250.00       1/30/14\n",
      "6     Supplier Y        50-9505         6650  $125.00        2/3/14\n",
      "7     Supplier Y        50-9505         6650  $125.00        2/3/14\n",
      "8     Supplier Z       920-4803         3321  $615.00        2/3/14\n",
      "9     Supplier Z       920-4804         3321  $615.00       2/10/14\n",
      "10    Supplier Z       920-4805         3321  $615.00       2/17/14\n",
      "11    Supplier Z       920-4806         3321  $615.00       2/24/14\n"
     ]
    }
   ],
   "source": [
    "import sys\n",
    "import pandas as pd\n",
    "\n",
    "input_file = 'supplier_data.csv'\n",
    "output_file = 'supplier_data_pandas_output.csv'\n",
    "\n",
    "data_frame = pd.read_csv(input_file)\n",
    "print(data_frame)\n",
    "data_frame.to_csv(output_file,index=False)\n",
    "\n",
    "out_data_frame = pd.read_csv(output_file)\n",
    "print(out_data_frame)"
   ]
  },
  {
   "cell_type": "markdown",
   "metadata": {
    "collapsed": true
   },
   "source": [
    "## 2.4 CSV 파일 읽고 쓰기(파트2) ##\n",
    "\n",
    "### 2.4.1 기본 파이썬(csv 모듈 사용) ###\n",
    "> 파이썬 내장 csv 모듈으로 csv 처리의 좋은 점.\n",
    "\n",
    "> 데이터에 포함된 쉼표 및 기타 복잡한 패턴을 정확하게 처리 가능"
   ]
  },
  {
   "cell_type": "code",
   "execution_count": 14,
   "metadata": {},
   "outputs": [
    {
     "name": "stdout",
     "output_type": "stream",
     "text": [
      "['Supplier Name', 'Invoice Number', 'Part Number', 'Cost', 'Purchase Date']\n",
      "['Supplier X', '001-1001', '2341', '$500.00', '1/20/14']\n",
      "['Supplier X', '001-1001', '2341', '$500.00', '1/20/14']\n",
      "['Supplier X', '001-1001', '5467', '$750.00', '1/20/14']\n",
      "['Supplier X', '001-1001', '5467', '$750.00', '1/20/14']\n",
      "['Supplier Y', '50-9501', '7009', '$250.00', '1/30/14']\n",
      "['Supplier Y', '50-9501', '7009', '$250.00', '1/30/14']\n",
      "['Supplier Y', '50-9505', '6650', '$125.00', '2/3/14']\n",
      "['Supplier Y', '50-9505', '6650', '$125.00', '2/3/14']\n",
      "['Supplier Z', '920-4803', '3321', '$615.00', '2/3/14']\n",
      "['Supplier Z', '920-4804', '3321', '$615.00', '2/10/14']\n",
      "['Supplier Z', '920-4805', '3321', '$615.00', '2/17/14']\n",
      "['Supplier Z', '920-4806', '3321', '$615.00', '2/24/14']\n"
     ]
    }
   ],
   "source": [
    "import csv\n",
    "import sys\n",
    "\n",
    "input_file2 = 'supplier_data.csv'\n",
    "output_file2 = 'supplier_data_output2.csv'\n",
    "\n",
    "with open(input_file2, 'r') as csv_in_file:\n",
    "    with open(output_file2,'w') as csv_out_file:\n",
    "        filereader = csv.reader(csv_in_file, delimiter=',')\n",
    "        filewriter = csv.writer(csv_out_file,delimiter=',')\n",
    "        for row_list in filereader:\n",
    "            print(row_list)\n",
    "            filewriter.writerow(row_list)\n",
    "            \n"
   ]
  },
  {
   "cell_type": "markdown",
   "metadata": {},
   "source": [
    "## 2.5 특정 행을 필터링하기\n",
    "\n",
    "---\n",
    "\n",
    "입력 파일에서 특정 행을 필터링하는 세가지 방법\n",
    " - 트정 조건을 충족하는 행을 필터링하기\n",
    " - 특정 집합의 값을 포함하는 행을 필터링하기\n",
    " - 정규 표현식을 활용해 필터링하기\n",
    "아래 if문처럼 필터링을 할 수 있을 것이다.\n",
    "\n",
    "---\n",
    "```python\n",
    "for row in filereader:\n",
    "    if 조건문 충족하면:\n",
    "        일을 수행한다\n",
    "    else:\n",
    "        아니면 뭔가 다른 일을 수행한다.\n",
    "```\n",
    "\n",
    "### 2.5.1 트정 조건을 충족하는 행의 필터링\n",
    "**기본 파이썬**\n",
    "\n",
    "필터링하기\n",
    "1. 이름이 Supplier Z인 것\n",
    "2. Cost가 $600.00 이상인 행.\n",
    "3. 필터링하고 그 결과를 출력."
   ]
  },
  {
   "cell_type": "code",
   "execution_count": 18,
   "metadata": {},
   "outputs": [
    {
     "name": "stdout",
     "output_type": "stream",
     "text": [
      "['Supplier Name', 'Invoice Number', 'Part Number', 'Cost', 'Purchase Date']\n",
      "['Supplier X', '001-1001', '5467', '$750.00', '1/20/14']\n",
      "['Supplier X', '001-1001', '5467', '$750.00', '1/20/14']\n",
      "['Supplier Z', '920-4803', '3321', '$615.00', '2/3/14']\n",
      "['Supplier Z', '920-4804', '3321', '$615.00', '2/10/14']\n",
      "['Supplier Z', '920-4805', '3321', '$615.00', '2/17/14']\n",
      "['Supplier Z', '920-4806', '3321', '$615.00', '2/24/14']\n"
     ]
    }
   ],
   "source": [
    "import csv\n",
    "import sys\n",
    "\n",
    "input_file3 = 'supplier_data.csv'\n",
    "output_file3 = 'supplier_data_output3.csv'\n",
    "\n",
    "with open(input_file3,'r') as csv_in_file:\n",
    "    with open(output_file3,'w') as csv_out_file:\n",
    "        file_reader = csv.reader(csv_in_file)\n",
    "        file_writer = csv.writer(csv_out_file)\n",
    "        header = next(file_reader)\n",
    "        file_writer.writerow(header)\n",
    "        print(header)\n",
    "        for row_list in file_reader:\n",
    "            supplier = str(row_list[0]).strip()\n",
    "            cost = str(row_list[3]).strip('$').replace(',','')\n",
    "            if supplier == 'Supplier Z' or float(cost) > 600.0:\n",
    "                file_writer.writerow(row_list)\n",
    "                print(row_list)\n",
    "        "
   ]
  },
  {
   "cell_type": "markdown",
   "metadata": {},
   "source": [
    "`str()`은 parameter를 String type으로 변경해주는 것 <br/>\n",
    "`str(row_list[3]).strip('$')` : str()결과내에 '$'을 삭제해준다.\n",
    "```python \n",
    "    if supplier == 'Supplier Z' or float(cost) > 600.0: \n",
    "```\n",
    "supplier의 'Supplier Z'이거나 cost string을 float 타입으로 변경해서 600.0보다 큰 값이가를 문는 것<br/>\n"
   ]
  },
  {
   "cell_type": "markdown",
   "metadata": {},
   "source": [
    "### 팬더스 ###\n",
    "팬더스는 특정 행과 열을 동시에 선택가능한 loc()함수를 제공한다.<br/>\n",
    "그래서 list로 접근하는 것보다 훨씬 편하다"
   ]
  },
  {
   "cell_type": "code",
   "execution_count": 20,
   "metadata": {},
   "outputs": [
    {
     "name": "stdout",
     "output_type": "stream",
     "text": [
      "   Supplier Name Invoice Number  Part Number   Cost Purchase Date\n",
      "2     Supplier X       001-1001         5467  750.0       1/20/14\n",
      "3     Supplier X       001-1001         5467  750.0       1/20/14\n",
      "8     Supplier Z       920-4803         3321  615.0        2/3/14\n",
      "9     Supplier Z       920-4804         3321  615.0       2/10/14\n",
      "10    Supplier Z       920-4805         3321  615.0       2/17/14\n",
      "11    Supplier Z       920-4806         3321  615.0       2/24/14\n"
     ]
    }
   ],
   "source": [
    "import pandas as pd\n",
    "import sys\n",
    "\n",
    "input_file4 = 'supplier_data.csv'\n",
    "output_file4 = 'supplier_data_output4.csv'\n",
    "\n",
    "data_frame = pd.read_csv(input_file4)\n",
    "\n",
    "data_frame['Cost'] = data_frame['Cost'].str.strip('$').astype(float)\n",
    "data_frame_value_meets_condition = data_frame.loc[(data_frame['Supplier Name'].str.contains('Z'))|(data_frame['Cost'] >600.0),:]\n",
    "#data_frame_value_meets_condition.to_csv(output_file4, index=False)\n",
    "print(data_frame_value_meets_condition)\n",
    "        "
   ]
  },
  {
   "cell_type": "code",
   "execution_count": null,
   "metadata": {
    "collapsed": true
   },
   "outputs": [],
   "source": []
  }
 ],
 "metadata": {
  "kernelspec": {
   "display_name": "Python 3",
   "language": "python",
   "name": "python3"
  },
  "language_info": {
   "codemirror_mode": {
    "name": "ipython",
    "version": 3
   },
   "file_extension": ".py",
   "mimetype": "text/x-python",
   "name": "python",
   "nbconvert_exporter": "python",
   "pygments_lexer": "ipython3",
   "version": "3.6.3"
  }
 },
 "nbformat": 4,
 "nbformat_minor": 2
}
